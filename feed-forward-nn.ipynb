{
 "cells": [
  {
   "cell_type": "markdown",
   "id": "3e4f05e7",
   "metadata": {},
   "source": [
    "A feed forward neural network (nn) is a type of ANN where information moves in one direction: forward, from input modes, through hidden layers, to the output nodes. There are no feedback loops present. \n",
    "\n",
    "1. Use DataLoader to load our dataset and apply a tranform to the dataset. \n",
    "2. Implement a feed-forward nn with input layer, hidden layer and output layer. \n",
    "3. Apply activation functions. \n",
    "4. Set up loss and optimizer\n",
    "5. Training loop that can use batch training\n",
    "6. Evaluate our model and calculate the accuracy. \n"
   ]
  },
  {
   "cell_type": "code",
   "execution_count": 4,
   "id": "51e0dd51",
   "metadata": {},
   "outputs": [
    {
     "name": "stderr",
     "output_type": "stream",
     "text": [
      "/Users/kanikasharma/.matplotlib is not a writable directory\n",
      "Matplotlib created a temporary cache directory at /var/folders/dh/tsrw2wl11q32qb9k4sx645080000gn/T/matplotlib-3bj_eec6 because there was an issue with the default path (/Users/kanikasharma/.matplotlib); it is highly recommended to set the MPLCONFIGDIR environment variable to a writable directory, in particular to speed up the import of Matplotlib and to better support multiprocessing.\n",
      "Matplotlib is building the font cache; this may take a moment.\n"
     ]
    }
   ],
   "source": [
    "import torch\n",
    "import torch.nn as nn \n",
    "import torchvision\n",
    "import torchvision.transforms as transforms\n",
    "import matplotlib.pyplot as plt"
   ]
  },
  {
   "cell_type": "code",
   "execution_count": 5,
   "id": "7343f8b8",
   "metadata": {},
   "outputs": [],
   "source": [
    "# check if GPU is available and run on GPU\n",
    "device = torch.device('cuda' if torch.cuda.is_available() else 'cpu')"
   ]
  },
  {
   "cell_type": "markdown",
   "id": "d5cb2c45",
   "metadata": {},
   "source": [
    "Hyperparameters are predefined configd estabslished before the training phase. "
   ]
  },
  {
   "cell_type": "code",
   "execution_count": 6,
   "id": "b4c07204",
   "metadata": {},
   "outputs": [],
   "source": [
    "input_size = 784 # 28x28 because MNIST images are 28x28, defines the size of input data (728 pixels)\n",
    "hidden_size = 100 # number of nodes in the hidden layer (governs models complexity)\n",
    "num_classes = 10 #(0-9 digits in the case of MNIST)\n",
    "num_epochs = 2 # number of times we go through the entire dataset\n",
    "batch_size = 100 # number of samples in one forward/backward pass\n",
    "learning_rate = 0.001 # step size for adjusting the model's parameter during training"
   ]
  },
  {
   "cell_type": "code",
   "execution_count": null,
   "id": "00fa5e9f",
   "metadata": {},
   "outputs": [
    {
     "name": "stdout",
     "output_type": "stream",
     "text": [
      "Shape of samples:torch.Size([100, 1, 28, 28]), shape of labels: torch.Size([100])\n"
     ]
    }
   ],
   "source": [
    "train_dataset = torchvision.datasets.MNIST(root='./data', train=True, transform=transforms.ToTensor(), download=True)\n",
    "\n",
    "test_dataset = torchvision.datasets.MNIST(root='./data', train=False, transform=transforms.ToTensor())\n",
    "\n",
    "train_loader = torch.utils.data.DataLoader(dataset=train_dataset, batch_size=batch_size, shuffle=True)\n",
    "\n",
    "test_loader = torch.utils.data.DataLoader(dataset=test_dataset, batch_size=batch_size, shuffle=False)\n",
    "\n",
    "examples = iter(test_loader) # Creates an iterator from the dataloader\n",
    "samples, labels = next(examples) # grab the next batch (image + labels)\n",
    "print(f'Shape of samples:{samples.shape}, shape of labels: {labels.shape}')\n",
    "# shape of samples:torch.Size([100, 1, 28, 28]), shape of labels: torch.Size([100])\n",
    "# 1 is for grayscale, number of channels"
   ]
  },
  {
   "cell_type": "code",
   "execution_count": 9,
   "id": "cfec9f77",
   "metadata": {},
   "outputs": [
    {
     "data": {
      "image/png": "[encoded data removed]",
      "text/plain": [
       "<Figure size 640x480 with 6 Axes>"
      ]
     },
     "metadata": {},
     "output_type": "display_data"
    }
   ],
   "source": [
    "for i in range(6):\n",
    "    plt.subplot(2,3,i+1)\n",
    "    plt.imshow(samples[i][0], cmap='gray')\n",
    "plt.show()"
   ]
  },
  {
   "cell_type": "code",
   "execution_count": null,
   "id": "37e60e72",
   "metadata": {},
   "outputs": [],
   "source": [
    "class NeuralNetwork(nn.Module):\n",
    "    def __init__(self, input_size, hidden_size, num_classes):\n",
    "        super(NeuralNetwork, self).__init__() #initialises the base class nn.Module\n",
    "        self.l1 = nn.Linear(input_size, hidden_size) # first layer\n",
    "        self.relu = nn.ReLU() # activation function to introduce non-linearity\n",
    "        self.l2 = nn.Linear(hidden_size, num_classes)\n",
    "\n",
    "    def forward(self,x):\n",
    "        out = self.l1(x) # computes the output of the first layer\n",
    "        out = self.relu(out) # Applies ReLU activation to the output \n",
    "        out = self.l2(out) # computes final output without any final activation\n",
    "        # no activation and no softmax at the end \n",
    "        return out \n",
    "model = NeuralNetwork(input_size, hidden_size, num_classes).to(device)\n"
   ]
  },
  {
   "cell_type": "code",
   "execution_count": 11,
   "id": "78dfaf08",
   "metadata": {},
   "outputs": [],
   "source": [
    "criterion = nn.CrossEntropyLoss() #(combines logsoftmax activation and negative log-liklihood loss)\n",
    "optimizer = torch.optim.Adam(model.parameters(), lr=learning_rate) # provides parameters, weights and biases\n",
    "\n"
   ]
  },
  {
   "cell_type": "code",
   "execution_count": 13,
   "id": "112dcdd3",
   "metadata": {},
   "outputs": [
    {
     "data": {
      "text/plain": [
       "<torch.utils.data.dataloader.DataLoader at 0x10b0cf9d0>"
      ]
     },
     "execution_count": 13,
     "metadata": {},
     "output_type": "execute_result"
    }
   ],
   "source": [
    "train_loader"
   ]
  },
  {
   "cell_type": "code",
   "execution_count": null,
   "id": "cff5050c",
   "metadata": {},
   "outputs": [
    {
     "name": "stdout",
     "output_type": "stream",
     "text": [
      "epoch 1/2, step 100/600, loss = 0.5303\n",
      "epoch 1/2, step 200/600, loss = 0.2793\n",
      "epoch 1/2, step 300/600, loss = 0.2727\n",
      "epoch 1/2, step 400/600, loss = 0.2824\n",
      "epoch 1/2, step 500/600, loss = 0.1310\n",
      "epoch 1/2, step 600/600, loss = 0.2212\n",
      "epoch 2/2, step 100/600, loss = 0.4395\n",
      "epoch 2/2, step 200/600, loss = 0.3645\n",
      "epoch 2/2, step 300/600, loss = 0.2749\n",
      "epoch 2/2, step 400/600, loss = 0.1602\n",
      "epoch 2/2, step 500/600, loss = 0.1914\n",
      "epoch 2/2, step 600/600, loss = 0.1773\n",
      "Finished training\n"
     ]
    }
   ],
   "source": [
    "n_total_steps = len(train_loader) # total number of batches in the training set\n",
    "\n",
    "for epoch in range(num_epochs):\n",
    "    for i, (images, labels) in enumerate(train_loader):\n",
    "        # 100,1,28,28 -> 100, 784\n",
    "        images = images.reshape(-1,28*28).to(device)\n",
    "        labels = labels.to(device)\n",
    "\n",
    "        #forward pass\n",
    "        outputs = model(images)\n",
    "        loss = criterion(outputs, labels) # calculates the loss/error between predicted outputs and actual label\n",
    "\n",
    "        #backward pass\n",
    "        optimizer.zero_grad() # set gradients to zero\n",
    "        loss.backward() # backpropagation\n",
    "        optimizer.step() # update weights \n",
    "\n",
    "        if (i+1) % 100 == 0:\n",
    "            print(f'epoch {epoch+1}/{num_epochs}, step {i+1}/{n_total_steps}, loss = {loss.item():.4f}')\n",
    "\n",
    "print('Finished training')"
   ]
  },
  {
   "cell_type": "code",
   "execution_count": 15,
   "id": "290de285",
   "metadata": {},
   "outputs": [
    {
     "name": "stdout",
     "output_type": "stream",
     "text": [
      "accuracy = 98.0\n",
      "accuracy = 98.0\n",
      "accuracy = 97.33333333333333\n",
      "accuracy = 96.75\n",
      "accuracy = 96.2\n",
      "accuracy = 95.33333333333333\n",
      "accuracy = 95.14285714285714\n",
      "accuracy = 95.125\n",
      "accuracy = 95.33333333333333\n",
      "accuracy = 95.2\n",
      "accuracy = 94.81818181818181\n",
      "accuracy = 94.41666666666667\n",
      "accuracy = 94.07692307692308\n",
      "accuracy = 93.92857142857143\n",
      "accuracy = 93.86666666666666\n",
      "accuracy = 93.75\n",
      "accuracy = 93.76470588235294\n",
      "accuracy = 93.72222222222223\n",
      "accuracy = 93.84210526315789\n",
      "accuracy = 93.7\n",
      "accuracy = 93.42857142857143\n",
      "accuracy = 93.27272727272727\n",
      "accuracy = 93.30434782608695\n",
      "accuracy = 93.33333333333333\n",
      "accuracy = 93.32\n",
      "accuracy = 93.3076923076923\n",
      "accuracy = 93.37037037037037\n",
      "accuracy = 93.5\n",
      "accuracy = 93.48275862068965\n",
      "accuracy = 93.46666666666667\n",
      "accuracy = 93.58064516129032\n",
      "accuracy = 93.59375\n",
      "accuracy = 93.6969696969697\n",
      "accuracy = 93.82352941176471\n",
      "accuracy = 93.91428571428571\n",
      "accuracy = 93.83333333333333\n",
      "accuracy = 93.94594594594595\n",
      "accuracy = 93.89473684210526\n",
      "accuracy = 93.74358974358974\n",
      "accuracy = 93.65\n",
      "accuracy = 93.60975609756098\n",
      "accuracy = 93.5952380952381\n",
      "accuracy = 93.53488372093024\n",
      "accuracy = 93.5\n",
      "accuracy = 93.5111111111111\n",
      "accuracy = 93.5\n",
      "accuracy = 93.53191489361703\n",
      "accuracy = 93.5625\n",
      "accuracy = 93.51020408163265\n",
      "accuracy = 93.52\n",
      "accuracy = 93.6078431372549\n",
      "accuracy = 93.63461538461539\n",
      "accuracy = 93.73584905660377\n",
      "accuracy = 93.83333333333333\n",
      "accuracy = 93.9090909090909\n",
      "accuracy = 94.01785714285714\n",
      "accuracy = 94.03508771929825\n",
      "accuracy = 94.06896551724138\n",
      "accuracy = 94.08474576271186\n",
      "accuracy = 94.05\n",
      "accuracy = 94.0327868852459\n",
      "accuracy = 94.06451612903226\n",
      "accuracy = 94.15873015873017\n",
      "accuracy = 94.1875\n",
      "accuracy = 94.23076923076923\n",
      "accuracy = 94.16666666666667\n",
      "accuracy = 94.2089552238806\n",
      "accuracy = 94.19117647058823\n",
      "accuracy = 94.26086956521739\n",
      "accuracy = 94.32857142857142\n",
      "accuracy = 94.40845070422536\n",
      "accuracy = 94.47222222222223\n",
      "accuracy = 94.53424657534246\n",
      "accuracy = 94.60810810810811\n",
      "accuracy = 94.61333333333333\n",
      "accuracy = 94.63157894736842\n",
      "accuracy = 94.7012987012987\n",
      "accuracy = 94.75641025641026\n",
      "accuracy = 94.77215189873418\n",
      "accuracy = 94.7875\n",
      "accuracy = 94.79012345679013\n",
      "accuracy = 94.84146341463415\n",
      "accuracy = 94.89156626506023\n",
      "accuracy = 94.92857142857143\n",
      "accuracy = 94.94117647058823\n",
      "accuracy = 94.97674418604652\n",
      "accuracy = 95.03448275862068\n",
      "accuracy = 95.0909090909091\n",
      "accuracy = 95.13483146067416\n",
      "accuracy = 95.18888888888888\n",
      "accuracy = 95.16483516483517\n",
      "accuracy = 95.21739130434783\n",
      "accuracy = 95.24731182795699\n",
      "accuracy = 95.2872340425532\n",
      "accuracy = 95.29473684210527\n",
      "accuracy = 95.33333333333333\n",
      "accuracy = 95.29896907216495\n",
      "accuracy = 95.26530612244898\n",
      "accuracy = 95.25252525252525\n",
      "accuracy = 95.22\n"
     ]
    }
   ],
   "source": [
    "with torch.no_grad(): \n",
    "    n_correct = 0\n",
    "    n_samples = 0\n",
    "    for images, labels in test_loader:\n",
    "        images = images.reshape(-1,28*28).to(device)\n",
    "        labels = labels.to(device)\n",
    "        outputs = model(images)\n",
    "\n",
    "        _, predictions = torch.max(outputs,1) # axis 1 indicates along a column, returns index/class with max logit value\n",
    "        n_samples += labels.shape[0] # number of samples in the current batch\n",
    "        n_correct += (predictions == labels).sum().item()\n",
    "\n",
    "        acc = 100 * n_correct/n_samples\n",
    "        print(f'accuracy = {acc}')"
   ]
  }
 ],
 "metadata": {
  "kernelspec": {
   "display_name": ".venv",
   "language": "python",
   "name": "python3"
  },
  "language_info": {
   "codemirror_mode": {
    "name": "ipython",
    "version": 3
   },
   "file_extension": ".py",
   "mimetype": "text/x-python",
   "name": "python",
   "nbconvert_exporter": "python",
   "pygments_lexer": "ipython3",
   "version": "3.9.6"
  }
 },
 "nbformat": 4,
 "nbformat_minor": 5
}
